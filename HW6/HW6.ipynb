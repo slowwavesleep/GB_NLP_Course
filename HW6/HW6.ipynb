{
 "cells": [
  {
   "cell_type": "markdown",
   "metadata": {},
   "source": [
    "Провести сравнение RNN, LSTM, GRU на датасете отзывов (из предыдущих занятий/материалов)"
   ]
  },
  {
   "cell_type": "code",
   "execution_count": 1,
   "metadata": {},
   "outputs": [],
   "source": [
    "import pandas as pd\n",
    "import numpy as np\n",
    "import tensorflow as tf\n",
    "import emoji\n",
    "from nltk import word_tokenize\n",
    "from string import punctuation, ascii_letters\n",
    "from stop_words import get_stop_words\n",
    "from pymorphy2 import MorphAnalyzer\n",
    "from collections import Counter\n",
    "from sklearn.model_selection import train_test_split\n",
    "from tensorflow.keras.preprocessing.sequence import pad_sequences\n",
    "from tensorflow.keras import regularizers\n",
    "from gensim.models import Word2Vec"
   ]
  },
  {
   "cell_type": "code",
   "execution_count": 22,
   "metadata": {},
   "outputs": [],
   "source": [
    "MAX_WORDS = 5000\n",
    "MAX_LEN = 20\n",
    "EMB_SIZE = 100"
   ]
  },
  {
   "cell_type": "code",
   "execution_count": 23,
   "metadata": {},
   "outputs": [],
   "source": [
    "morph = MorphAnalyzer(lang='ru')"
   ]
  },
  {
   "cell_type": "code",
   "execution_count": 24,
   "metadata": {},
   "outputs": [],
   "source": [
    "stop_words = set(get_stop_words('ru'))"
   ]
  },
  {
   "cell_type": "code",
   "execution_count": 25,
   "metadata": {},
   "outputs": [],
   "source": [
    "punctuation = set(punctuation).union((' ', '«', '»', '—', '–', '“', '”', '…'))"
   ]
  },
  {
   "cell_type": "code",
   "execution_count": 26,
   "metadata": {},
   "outputs": [],
   "source": [
    "cyrillic_letters = set([chr(i) for i in range(ord('а'), ord('я') + 1)] +\n",
    "                       [chr(i) for i in range(ord('А'), ord('Я') + 1)] +\n",
    "                       ['ё', 'Ё'])"
   ]
  },
  {
   "cell_type": "code",
   "execution_count": 27,
   "metadata": {},
   "outputs": [],
   "source": [
    "data = pd.read_excel('../data/summer_reviews.xls')\n",
    "data.columns = ['rating', 'content', 'date']"
   ]
  },
  {
   "cell_type": "code",
   "execution_count": 28,
   "metadata": {},
   "outputs": [],
   "source": [
    "data['target'] = (data.rating > 3).astype(int)"
   ]
  },
  {
   "cell_type": "code",
   "execution_count": 29,
   "metadata": {},
   "outputs": [],
   "source": [
    "def preprocess(text):\n",
    "    tokens = word_tokenize(text)\n",
    "    result = []\n",
    "    for token in tokens:\n",
    "        if (set(token).intersection(cyrillic_letters)\n",
    "            or set(token).intersection(set(ascii_letters))\n",
    "            or token in emoji.UNICODE_EMOJI):\n",
    "            result.append(token)\n",
    "    tokens = [token.lower() for token in result if token.lower() not in stop_words]\n",
    "    tokens = [token for token in tokens if token in emoji.UNICODE_EMOJI or len(token) >  1]\n",
    "    tokens = [morph.parse(token)[0].normal_form for token in tokens]\n",
    "    return tokens\n",
    "        "
   ]
  },
  {
   "cell_type": "code",
   "execution_count": 30,
   "metadata": {},
   "outputs": [],
   "source": [
    "data['processed'] = data.content.apply(lambda x: \" \".join(preprocess(str(x))))"
   ]
  },
  {
   "cell_type": "code",
   "execution_count": 31,
   "metadata": {},
   "outputs": [],
   "source": [
    "X_train, X_val, y_train, y_val = train_test_split(data['processed'], data['target'], test_size=0.1,\n",
    "                                                    random_state=0, stratify=data['target'])"
   ]
  },
  {
   "cell_type": "code",
   "execution_count": 32,
   "metadata": {},
   "outputs": [],
   "source": [
    "tokenizer = tf.keras.preprocessing.text.Tokenizer(num_words=MAX_WORDS, oov_token='UNK')"
   ]
  },
  {
   "cell_type": "code",
   "execution_count": 33,
   "metadata": {},
   "outputs": [],
   "source": [
    "tokenizer.fit_on_texts(X_train)"
   ]
  },
  {
   "cell_type": "code",
   "execution_count": 34,
   "metadata": {},
   "outputs": [],
   "source": [
    "X_train = pad_sequences(tokenizer.texts_to_sequences(X_train),\n",
    "                        maxlen=MAX_LEN,\n",
    "                        padding='post',\n",
    "                        truncating='post')"
   ]
  },
  {
   "cell_type": "code",
   "execution_count": 35,
   "metadata": {},
   "outputs": [],
   "source": [
    "X_val = pad_sequences(tokenizer.texts_to_sequences(X_val),\n",
    "                        maxlen=MAX_LEN,\n",
    "                        padding='post',\n",
    "                        truncating='post')"
   ]
  },
  {
   "cell_type": "code",
   "execution_count": 36,
   "metadata": {},
   "outputs": [],
   "source": [
    "vocab = tokenizer.index_word"
   ]
  },
  {
   "cell_type": "markdown",
   "metadata": {},
   "source": [
    "### RNN"
   ]
  },
  {
   "cell_type": "code",
   "execution_count": 37,
   "metadata": {},
   "outputs": [],
   "source": [
    "inputs = tf.keras.layers.Input(shape=(MAX_LEN,))\n",
    "embeddings = tf.keras.layers.Embedding(input_dim=len(vocab),\n",
    "                                       output_dim=EMB_SIZE,\n",
    "                                       activity_regularizer=regularizers.l2(1e-6))(inputs)\n",
    "rnn = tf.keras.layers.SimpleRNN(128, recurrent_dropout=0.2, activation='relu')(embeddings)\n",
    "dense = tf.keras.layers.Dense(64, activation='relu')(rnn)\n",
    "outputs = tf.keras.layers.Dense(1, activation='sigmoid')(dense)"
   ]
  },
  {
   "cell_type": "code",
   "execution_count": 38,
   "metadata": {},
   "outputs": [],
   "source": [
    "model = tf.keras.Model(inputs=inputs, outputs=outputs)"
   ]
  },
  {
   "cell_type": "code",
   "execution_count": 39,
   "metadata": {},
   "outputs": [],
   "source": [
    "optimizer = tf.keras.optimizers.Adam(learning_rate=0.001)"
   ]
  },
  {
   "cell_type": "code",
   "execution_count": 40,
   "metadata": {},
   "outputs": [],
   "source": [
    "model.compile(optimizer=optimizer,\n",
    "              loss='binary_crossentropy',\n",
    "              metrics=['accuracy'])"
   ]
  },
  {
   "cell_type": "code",
   "execution_count": 41,
   "metadata": {
    "scrolled": false
   },
   "outputs": [
    {
     "name": "stdout",
     "output_type": "stream",
     "text": [
      "Train on 18593 samples, validate on 2066 samples\n",
      "Epoch 1/10\n",
      "18593/18593 [==============================] - 2s 134us/sample - loss: 0.4494 - accuracy: 0.8169 - val_loss: 0.2912 - val_accuracy: 0.8901\n",
      "Epoch 2/10\n",
      "18593/18593 [==============================] - 2s 97us/sample - loss: 0.2870 - accuracy: 0.8735 - val_loss: 0.2519 - val_accuracy: 0.9085\n",
      "Epoch 3/10\n",
      "18593/18593 [==============================] - 2s 97us/sample - loss: 0.2626 - accuracy: 0.8700 - val_loss: 0.2494 - val_accuracy: 0.8964\n",
      "Epoch 4/10\n",
      "18593/18593 [==============================] - 2s 96us/sample - loss: 0.2571 - accuracy: 0.8639 - val_loss: 0.2471 - val_accuracy: 0.8393\n",
      "Epoch 5/10\n",
      "18593/18593 [==============================] - 2s 97us/sample - loss: 0.2714 - accuracy: 0.8654 - val_loss: 0.2765 - val_accuracy: 0.8533\n",
      "Epoch 6/10\n",
      "18593/18593 [==============================] - 2s 95us/sample - loss: 0.2436 - accuracy: 0.9023 - val_loss: 0.2636 - val_accuracy: 0.9080\n",
      "Epoch 7/10\n",
      "18593/18593 [==============================] - 2s 93us/sample - loss: 0.2235 - accuracy: 0.9180 - val_loss: 0.2516 - val_accuracy: 0.9051\n",
      "Epoch 8/10\n",
      "18593/18593 [==============================] - 2s 96us/sample - loss: 0.2124 - accuracy: 0.9199 - val_loss: 0.2493 - val_accuracy: 0.9119\n",
      "Epoch 9/10\n",
      "18593/18593 [==============================] - 2s 94us/sample - loss: 0.2036 - accuracy: 0.9283 - val_loss: 0.2627 - val_accuracy: 0.9085\n",
      "Epoch 10/10\n",
      "18593/18593 [==============================] - 2s 99us/sample - loss: 0.2098 - accuracy: 0.9206 - val_loss: 0.2575 - val_accuracy: 0.8959\n"
     ]
    },
    {
     "data": {
      "text/plain": [
       "<tensorflow.python.keras.callbacks.History at 0x7f7c704fb090>"
      ]
     },
     "execution_count": 41,
     "metadata": {},
     "output_type": "execute_result"
    }
   ],
   "source": [
    "model.fit(X_train, y_train, \n",
    "          validation_data=(X_val, y_val),\n",
    "          batch_size=256,\n",
    "          epochs=10)"
   ]
  },
  {
   "cell_type": "markdown",
   "metadata": {},
   "source": [
    "### Bidirectional LSTM"
   ]
  },
  {
   "cell_type": "code",
   "execution_count": 42,
   "metadata": {},
   "outputs": [],
   "source": [
    "inputs = tf.keras.layers.Input(shape=(MAX_LEN,))\n",
    "embeddings = tf.keras.layers.Embedding(input_dim=len(vocab),\n",
    "                                       output_dim=EMB_SIZE,\n",
    "                                       activity_regularizer=regularizers.l2(1e-6))(inputs)\n",
    "lstm = tf.keras.layers.Bidirectional(tf.keras.layers.LSTM(64))(embeddings)\n",
    "dense = tf.keras.layers.Dense(64, activation='relu')(lstm)\n",
    "outputs = tf.keras.layers.Dense(1, activation='sigmoid')(dense)"
   ]
  },
  {
   "cell_type": "code",
   "execution_count": 43,
   "metadata": {},
   "outputs": [],
   "source": [
    "model = tf.keras.Model(inputs=inputs, outputs=outputs)"
   ]
  },
  {
   "cell_type": "code",
   "execution_count": 44,
   "metadata": {},
   "outputs": [],
   "source": [
    "optimizer = tf.keras.optimizers.Adam(learning_rate=0.001)"
   ]
  },
  {
   "cell_type": "code",
   "execution_count": 45,
   "metadata": {},
   "outputs": [],
   "source": [
    "model.compile(optimizer=optimizer,\n",
    "              loss='binary_crossentropy',\n",
    "              metrics=['accuracy'])"
   ]
  },
  {
   "cell_type": "code",
   "execution_count": 46,
   "metadata": {},
   "outputs": [
    {
     "name": "stdout",
     "output_type": "stream",
     "text": [
      "Train on 18593 samples, validate on 2066 samples\n",
      "Epoch 1/10\n",
      "18593/18593 [==============================] - 5s 280us/sample - loss: 0.3586 - accuracy: 0.8510 - val_loss: 0.2071 - val_accuracy: 0.9071\n",
      "Epoch 2/10\n",
      "18593/18593 [==============================] - 3s 179us/sample - loss: 0.1969 - accuracy: 0.9169 - val_loss: 0.1813 - val_accuracy: 0.9148\n",
      "Epoch 3/10\n",
      "18593/18593 [==============================] - 3s 175us/sample - loss: 0.1702 - accuracy: 0.9325 - val_loss: 0.1871 - val_accuracy: 0.9153\n",
      "Epoch 4/10\n",
      "18593/18593 [==============================] - 3s 180us/sample - loss: 0.1510 - accuracy: 0.9441 - val_loss: 0.1946 - val_accuracy: 0.9158\n",
      "Epoch 5/10\n",
      "18593/18593 [==============================] - 3s 176us/sample - loss: 0.1376 - accuracy: 0.9487 - val_loss: 0.2132 - val_accuracy: 0.9124\n",
      "Epoch 6/10\n",
      "18593/18593 [==============================] - 3s 176us/sample - loss: 0.1255 - accuracy: 0.9525 - val_loss: 0.2255 - val_accuracy: 0.9095\n",
      "Epoch 7/10\n",
      "18593/18593 [==============================] - 3s 174us/sample - loss: 0.1134 - accuracy: 0.9589 - val_loss: 0.2382 - val_accuracy: 0.9080\n",
      "Epoch 8/10\n",
      "18593/18593 [==============================] - 3s 175us/sample - loss: 0.1030 - accuracy: 0.9615 - val_loss: 0.2484 - val_accuracy: 0.9046\n",
      "Epoch 9/10\n",
      "18593/18593 [==============================] - 3s 175us/sample - loss: 0.0940 - accuracy: 0.9656 - val_loss: 0.3103 - val_accuracy: 0.8998\n",
      "Epoch 10/10\n",
      "18593/18593 [==============================] - 3s 176us/sample - loss: 0.0855 - accuracy: 0.9692 - val_loss: 0.3096 - val_accuracy: 0.9076\n"
     ]
    },
    {
     "data": {
      "text/plain": [
       "<tensorflow.python.keras.callbacks.History at 0x7f7ccca672d0>"
      ]
     },
     "execution_count": 46,
     "metadata": {},
     "output_type": "execute_result"
    }
   ],
   "source": [
    "model.fit(X_train, y_train, \n",
    "          validation_data=(X_val, y_val),\n",
    "          batch_size=256,\n",
    "          epochs=10)"
   ]
  },
  {
   "cell_type": "markdown",
   "metadata": {},
   "source": [
    "### GRU"
   ]
  },
  {
   "cell_type": "code",
   "execution_count": 47,
   "metadata": {},
   "outputs": [],
   "source": [
    "inputs = tf.keras.layers.Input(shape=(MAX_LEN,))\n",
    "embeddings = tf.keras.layers.Embedding(input_dim=len(vocab),\n",
    "                                       output_dim=EMB_SIZE,\n",
    "                                       activity_regularizer=regularizers.l2(1e-6))(inputs)\n",
    "gru = tf.keras.layers.Bidirectional(tf.keras.layers.GRU(64))(embeddings)\n",
    "dense = tf.keras.layers.Dense(64, activation='relu')(gru)\n",
    "outputs = tf.keras.layers.Dense(1, activation='sigmoid')(dense)"
   ]
  },
  {
   "cell_type": "code",
   "execution_count": 48,
   "metadata": {},
   "outputs": [],
   "source": [
    "model = tf.keras.Model(inputs=inputs, outputs=outputs)"
   ]
  },
  {
   "cell_type": "code",
   "execution_count": 49,
   "metadata": {},
   "outputs": [],
   "source": [
    "optimizer = tf.keras.optimizers.Adam(learning_rate=0.001)"
   ]
  },
  {
   "cell_type": "code",
   "execution_count": 50,
   "metadata": {},
   "outputs": [],
   "source": [
    "model.compile(optimizer=optimizer,\n",
    "              loss='binary_crossentropy',\n",
    "              metrics=['accuracy'])"
   ]
  },
  {
   "cell_type": "code",
   "execution_count": 51,
   "metadata": {},
   "outputs": [
    {
     "name": "stdout",
     "output_type": "stream",
     "text": [
      "Train on 18593 samples, validate on 2066 samples\n",
      "Epoch 1/10\n",
      "18593/18593 [==============================] - 5s 262us/sample - loss: 0.3545 - accuracy: 0.8509 - val_loss: 0.2076 - val_accuracy: 0.9037\n",
      "Epoch 2/10\n",
      "18593/18593 [==============================] - 3s 157us/sample - loss: 0.1943 - accuracy: 0.9201 - val_loss: 0.1841 - val_accuracy: 0.9158\n",
      "Epoch 3/10\n",
      "18593/18593 [==============================] - 3s 154us/sample - loss: 0.1660 - accuracy: 0.9343 - val_loss: 0.1911 - val_accuracy: 0.9153\n",
      "Epoch 4/10\n",
      "18593/18593 [==============================] - 3s 162us/sample - loss: 0.1496 - accuracy: 0.9437 - val_loss: 0.1923 - val_accuracy: 0.9163\n",
      "Epoch 5/10\n",
      "18593/18593 [==============================] - 3s 152us/sample - loss: 0.1353 - accuracy: 0.9498 - val_loss: 0.2164 - val_accuracy: 0.9076\n",
      "Epoch 6/10\n",
      "18593/18593 [==============================] - 3s 155us/sample - loss: 0.1241 - accuracy: 0.9542 - val_loss: 0.2186 - val_accuracy: 0.9105\n",
      "Epoch 7/10\n",
      "18593/18593 [==============================] - 3s 153us/sample - loss: 0.1126 - accuracy: 0.9579 - val_loss: 0.2401 - val_accuracy: 0.9085\n",
      "Epoch 8/10\n",
      "18593/18593 [==============================] - 3s 153us/sample - loss: 0.1028 - accuracy: 0.9627 - val_loss: 0.2556 - val_accuracy: 0.9017\n",
      "Epoch 9/10\n",
      "18593/18593 [==============================] - 3s 149us/sample - loss: 0.0938 - accuracy: 0.9674 - val_loss: 0.2900 - val_accuracy: 0.9032\n",
      "Epoch 10/10\n",
      "18593/18593 [==============================] - 3s 153us/sample - loss: 0.0851 - accuracy: 0.9704 - val_loss: 0.3005 - val_accuracy: 0.9042\n"
     ]
    },
    {
     "data": {
      "text/plain": [
       "<tensorflow.python.keras.callbacks.History at 0x7f7c309860d0>"
      ]
     },
     "execution_count": 51,
     "metadata": {},
     "output_type": "execute_result"
    }
   ],
   "source": [
    "model.fit(X_train, y_train, \n",
    "          validation_data=(X_val, y_val),\n",
    "          batch_size=256,\n",
    "          epochs=10)"
   ]
  },
  {
   "cell_type": "markdown",
   "metadata": {},
   "source": [
    "Как видим, на валидации у всех моделей результат схожий. Если смотреть на лучшую эпоху, то небольшое преимущество у GRU с результатом `0.9163`."
   ]
  },
  {
   "cell_type": "code",
   "execution_count": null,
   "metadata": {},
   "outputs": [],
   "source": []
  }
 ],
 "metadata": {
  "kernelspec": {
   "display_name": "Python 3",
   "language": "python",
   "name": "python3"
  },
  "language_info": {
   "codemirror_mode": {
    "name": "ipython",
    "version": 3
   },
   "file_extension": ".py",
   "mimetype": "text/x-python",
   "name": "python",
   "nbconvert_exporter": "python",
   "pygments_lexer": "ipython3",
   "version": "3.7.6"
  }
 },
 "nbformat": 4,
 "nbformat_minor": 4
}
