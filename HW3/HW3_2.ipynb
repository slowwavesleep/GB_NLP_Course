{
 "cells": [
  {
   "cell_type": "markdown",
   "metadata": {},
   "source": [
    "Вариант 2. Написать pos-тегер (на основании pymorphy) внутри nltk"
   ]
  },
  {
   "cell_type": "code",
   "execution_count": 1,
   "metadata": {},
   "outputs": [],
   "source": [
    "from nltk.tag import SequentialBackoffTagger\n",
    "import nltk\n",
    "import pymorphy2\n",
    "import opencorpora\n",
    "from sklearn.model_selection import train_test_split\n",
    "from sklearn.metrics import classification_report"
   ]
  },
  {
   "cell_type": "code",
   "execution_count": 2,
   "metadata": {},
   "outputs": [],
   "source": [
    "class MorphTagger(SequentialBackoffTagger):\n",
    "    def __init__(self, *args, **kwargs):\n",
    "        SequentialBackoffTagger.__init__(self, *args, **kwargs)\n",
    "        self.morph = pymorphy2.MorphAnalyzer()\n",
    "            \n",
    "    def choose_tag(self, tokens, index, history):\n",
    "        word = tokens[index]\n",
    "        return self.morph.parse(word)[0].tag.POS"
   ]
  },
  {
   "cell_type": "code",
   "execution_count": 3,
   "metadata": {},
   "outputs": [],
   "source": [
    "mt = MorphTagger()"
   ]
  },
  {
   "cell_type": "code",
   "execution_count": 4,
   "metadata": {},
   "outputs": [
    {
     "data": {
      "text/plain": [
       "[('Это', 'PRCL'), ('тестовое', 'ADJF'), ('предложение', 'NOUN')]"
      ]
     },
     "execution_count": 4,
     "metadata": {},
     "output_type": "execute_result"
    }
   ],
   "source": [
    "mt.tag(['Это', 'тестовое', 'предложение'])"
   ]
  },
  {
   "cell_type": "markdown",
   "metadata": {},
   "source": [
    "Чтобы оценить точность тегера можно использовать корпус, на котором он основан (имея в виду, что на этих данных результаты, вероятно, будут искажены в большую сторону)."
   ]
  },
  {
   "cell_type": "code",
   "execution_count": 5,
   "metadata": {},
   "outputs": [
    {
     "name": "stdout",
     "output_type": "stream",
     "text": [
      "Creating annot.opcorpora.xml from http://opencorpora.org/files/export/annot/annot.opcorpora.xml.bz2\n",
      ".............................................................................................................................\n",
      "Done.\n"
     ]
    }
   ],
   "source": [
    "!opencorpora download"
   ]
  },
  {
   "cell_type": "code",
   "execution_count": 6,
   "metadata": {},
   "outputs": [],
   "source": [
    "corpus = opencorpora.load('annot.opcorpora.xml')"
   ]
  },
  {
   "cell_type": "code",
   "execution_count": 7,
   "metadata": {},
   "outputs": [],
   "source": [
    "def prepare_sent(sentence):\n",
    "    result = []\n",
    "    for token in sentence.tokens:\n",
    "        result.append((token.source, token.parses[0].grammemes[0]))\n",
    "    result = [token for token in result if token[1] != 'PNCT']\n",
    "    return result"
   ]
  },
  {
   "cell_type": "code",
   "execution_count": 8,
   "metadata": {},
   "outputs": [],
   "source": [
    "data = [prepare_sent(sentence) for sentence in corpus.sentences[:1000]]"
   ]
  },
  {
   "cell_type": "code",
   "execution_count": 9,
   "metadata": {},
   "outputs": [
    {
     "data": {
      "text/plain": [
       "0.9032584738190266"
      ]
     },
     "execution_count": 9,
     "metadata": {},
     "output_type": "execute_result"
    }
   ],
   "source": [
    "mt.evaluate(data)"
   ]
  },
  {
   "cell_type": "code",
   "execution_count": 10,
   "metadata": {},
   "outputs": [],
   "source": [
    "test_tagged = mt.tag_sents([[token for token, tag in sent] for sent in data])\n",
    "gold = [str(tag) for sentence in data for token, tag in sentence]\n",
    "pred = [str(tag) for sentence in test_tagged for token, tag in sentence]"
   ]
  },
  {
   "cell_type": "code",
   "execution_count": 12,
   "metadata": {},
   "outputs": [
    {
     "name": "stdout",
     "output_type": "stream",
     "text": [
      "              precision    recall  f1-score   support\n",
      "\n",
      "        ADJF       0.95      0.90      0.93      2782\n",
      "        ADJS       0.68      0.65      0.67       112\n",
      "        ADVB       0.77      0.87      0.82       625\n",
      "        COMP       0.73      0.77      0.75        61\n",
      "        CONJ       0.93      0.90      0.91      1506\n",
      "        GRND       0.97      0.95      0.96        62\n",
      "        INFN       0.99      0.99      0.99       383\n",
      "        INTJ       0.08      0.14      0.10        22\n",
      "        LATN       0.00      0.00      0.00        99\n",
      "        NOUN       0.94      0.98      0.96      5979\n",
      "        NPRO       0.76      0.84      0.80       347\n",
      "        NUMB       0.00      0.00      0.00       224\n",
      "        NUMR       0.97      0.70      0.81        56\n",
      "        None       0.00      0.00      0.00         0\n",
      "        PRCL       0.68      0.82      0.75       495\n",
      "        PRED       0.92      0.93      0.92        59\n",
      "        PREP       0.98      0.99      0.99      1977\n",
      "        PRTF       0.93      0.89      0.91       305\n",
      "        PRTS       0.88      0.94      0.91        83\n",
      "        ROMN       0.00      0.00      0.00        15\n",
      "        SYMB       0.00      0.00      0.00        15\n",
      "        UNKN       0.00      0.00      0.00       283\n",
      "        VERB       0.98      0.96      0.97      1297\n",
      "\n",
      "    accuracy                           0.90     16787\n",
      "   macro avg       0.61      0.62      0.61     16787\n",
      "weighted avg       0.89      0.90      0.90     16787\n",
      "\n"
     ]
    }
   ],
   "source": [
    "print(classification_report(gold, pred))"
   ]
  },
  {
   "cell_type": "code",
   "execution_count": null,
   "metadata": {},
   "outputs": [],
   "source": []
  }
 ],
 "metadata": {
  "kernelspec": {
   "display_name": "Python 3",
   "language": "python",
   "name": "python3"
  },
  "language_info": {
   "codemirror_mode": {
    "name": "ipython",
    "version": 3
   },
   "file_extension": ".py",
   "mimetype": "text/x-python",
   "name": "python",
   "nbconvert_exporter": "python",
   "pygments_lexer": "ipython3",
   "version": "3.7.6"
  }
 },
 "nbformat": 4,
 "nbformat_minor": 4
}
