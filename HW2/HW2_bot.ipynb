{
 "cells": [
  {
   "cell_type": "code",
   "execution_count": 75,
   "metadata": {},
   "outputs": [],
   "source": [
    "import annoy\n",
    "from gensim.models import FastText\n",
    "from nltk import word_tokenize\n",
    "import re\n",
    "import json\n",
    "import string\n",
    "from stop_words import get_stop_words\n",
    "import pickle\n",
    "import numpy as np"
   ]
  },
  {
   "cell_type": "code",
   "execution_count": 23,
   "metadata": {},
   "outputs": [],
   "source": [
    "stop_words = set(get_stop_words(\"ru\"))\n",
    "exclude = set(string.punctuation).union(stop_words)"
   ]
  },
  {
   "cell_type": "code",
   "execution_count": 31,
   "metadata": {},
   "outputs": [],
   "source": [
    "tag_re = re.compile(r'<[^>]+>')"
   ]
  },
  {
   "cell_type": "code",
   "execution_count": 39,
   "metadata": {},
   "outputs": [],
   "source": [
    "def preprocess(text):\n",
    "    text = tag_re.sub('', text)\n",
    "    tokens = word_tokenize(text)\n",
    "    tokens = [token.lower() for token in tokens if token not in exclude and token.isalpha()]\n",
    "    return tokens"
   ]
  },
  {
   "cell_type": "code",
   "execution_count": 43,
   "metadata": {},
   "outputs": [],
   "source": [
    "def read_corpus(path, limit=0):\n",
    "    sentences = []\n",
    "    count = 0\n",
    "    with open(path, 'r') as file:\n",
    "        for line in notebook.tqdm(file):\n",
    "            sentence = preprocess(line)\n",
    "            count += 1\n",
    "            if sentence:\n",
    "                sentences.append(sentence)\n",
    "            if limit and count > limit:\n",
    "                break\n",
    "    return sentences\n",
    "    "
   ]
  },
  {
   "cell_type": "code",
   "execution_count": 47,
   "metadata": {
    "scrolled": true
   },
   "outputs": [
    {
     "data": {
      "application/vnd.jupyter.widget-view+json": {
       "model_id": "b1a94cd39c2d4acfade6da1a7fa9011c",
       "version_major": 2,
       "version_minor": 0
      },
      "text/plain": [
       "HBox(children=(FloatProgress(value=1.0, bar_style='info', max=1.0), HTML(value='')))"
      ]
     },
     "metadata": {},
     "output_type": "display_data"
    }
   ],
   "source": [
    "if 1:\n",
    "    sentences = read_corpus('/mnt/f/data/answers.txt', 1_000_000)"
   ]
  },
  {
   "cell_type": "code",
   "execution_count": 70,
   "metadata": {},
   "outputs": [],
   "source": [
    "def prepare_questions(path):\n",
    "    \n",
    "    with open(path, 'r') as file:\n",
    "        lines = file.readlines()\n",
    "    questions_and_answers = ''.join(lines).split('--\\n')\n",
    "    \n",
    "    result = {}\n",
    "    \n",
    "    for q_n_a in questions_and_answers:\n",
    "        q_n_a = q_n_a.split('\\n')\n",
    "        if (q_n_a and len(q_n_a[0]) > 3 and\n",
    "            len(q_n_a) > 1 and\n",
    "            q_n_a[0] not in result.keys()):\n",
    "            \n",
    "            result[q_n_a[0]] = q_n_a[1:]\n",
    "    return result\n"
   ]
  },
  {
   "cell_type": "code",
   "execution_count": 72,
   "metadata": {},
   "outputs": [],
   "source": [
    "if 1:\n",
    "    q_and_a = prepare_questions('/mnt/f/data/answers.txt')"
   ]
  },
  {
   "cell_type": "code",
   "execution_count": 78,
   "metadata": {},
   "outputs": [],
   "source": [
    "if 1:\n",
    "    with open('/mnt/f/data/questions_and_answers_separated.txt', 'w') as file:\n",
    "        json.dump(q_and_a, file)"
   ]
  },
  {
   "cell_type": "code",
   "execution_count": 54,
   "metadata": {},
   "outputs": [],
   "source": [
    "EMBEDDING_SIZE = 70"
   ]
  },
  {
   "cell_type": "code",
   "execution_count": 55,
   "metadata": {},
   "outputs": [
    {
     "name": "stdout",
     "output_type": "stream",
     "text": [
      "CPU times: user 26.7 s, sys: 4.48 s, total: 31.2 s\n",
      "Wall time: 31.1 s\n"
     ]
    }
   ],
   "source": [
    "%%time\n",
    "ft = FastText(sentences=sentences, size=EMBEDDING_SIZE, min_count=10, window=5, workers=-1)"
   ]
  },
  {
   "cell_type": "code",
   "execution_count": 56,
   "metadata": {},
   "outputs": [],
   "source": [
    "ft_index = annoy.AnnoyIndex(EMBEDDING_SIZE ,'angular')"
   ]
  },
  {
   "cell_type": "code",
   "execution_count": 86,
   "metadata": {},
   "outputs": [],
   "source": [
    "def make_index(questions_and_answers, model, index):\n",
    "    \n",
    "    index_map = {}\n",
    "    counter = 0\n",
    "    \n",
    "    for question in notebook.tqdm(questions_and_answers.keys()):\n",
    "        \n",
    "         \n",
    "        answers = questions_and_answers[question]\n",
    "        index_map[counter] = answers\n",
    "        \n",
    "        question = preprocess(question)\n",
    "        \n",
    "        question_vec = np.zeros(model.wv.vector_size)\n",
    "        for word in question:\n",
    "            question_vec += model.wv[word]\n",
    "        index.add_item(counter, question_vec)\n",
    "        \n",
    "        counter += 1\n",
    "    \n",
    "    index.build(10)\n",
    "    return index_map"
   ]
  },
  {
   "cell_type": "code",
   "execution_count": 87,
   "metadata": {},
   "outputs": [
    {
     "data": {
      "application/vnd.jupyter.widget-view+json": {
       "model_id": "89880fa74cfd40cb9b79c997a2c73a39",
       "version_major": 2,
       "version_minor": 0
      },
      "text/plain": [
       "HBox(children=(FloatProgress(value=0.0, max=1158521.0), HTML(value='')))"
      ]
     },
     "metadata": {},
     "output_type": "display_data"
    },
    {
     "name": "stdout",
     "output_type": "stream",
     "text": [
      "\n"
     ]
    }
   ],
   "source": [
    "index_map = make_index(q_and_a, ft, ft_index)"
   ]
  },
  {
   "cell_type": "code",
   "execution_count": 92,
   "metadata": {},
   "outputs": [],
   "source": [
    "def get_response(question, index, model, index_map, num_candidates=1):\n",
    "    question = preprocess_txt(question)\n",
    "    vector = np.zeros(model.wv.vector_size)\n",
    "    norm = len(question)\n",
    "    for word in question:\n",
    "        vector += model.wv[word]\n",
    "        norm += 1\n",
    "    if norm > 1:\n",
    "        vector = vector / norm\n",
    "    answers = index.get_nns_by_vector(vector, num_candidates)\n",
    "    return [index_map[i] for i in answers]"
   ]
  },
  {
   "cell_type": "code",
   "execution_count": 103,
   "metadata": {},
   "outputs": [
    {
     "data": {
      "text/plain": [
       "[['Ни какая!!. ',\n",
       "  'у неё температура кипения всего 115 градусов, у современных тормознух выше. ',\n",
       "  'БСК (бутиловый спирт и касторовое масло) лучше заменить на современную ТЖ., промыв всюмозную систему, а лучше заменить все манжеты на новые и залить свежую ТЖ. БСК может работать только в барабанных тормозных механизмах и в узком диапазоне температур.. ',\n",
       "  'ЭСК-то есть ЭТИЛОВЫЙ спирт+касторка.. ',\n",
       "  '-']]"
      ]
     },
     "execution_count": 103,
     "metadata": {},
     "output_type": "execute_result"
    }
   ],
   "source": [
    "get_response('Как починить кран?', ft_index, ft, index_map)"
   ]
  },
  {
   "cell_type": "code",
   "execution_count": 99,
   "metadata": {},
   "outputs": [],
   "source": [
    "if 1:\n",
    "    with open('/mnt/f/data/index_map.txt', 'w') as file:\n",
    "        json.dump(index_map, file)"
   ]
  },
  {
   "cell_type": "code",
   "execution_count": 100,
   "metadata": {},
   "outputs": [],
   "source": [
    "if 1:\n",
    "    ft_index.save('/mnt/f/data/ft_index.txt')"
   ]
  },
  {
   "cell_type": "code",
   "execution_count": 102,
   "metadata": {},
   "outputs": [],
   "source": [
    "from gensim.test.utils import get_tmpfile\n",
    "if 1:\n",
    "    fname = get_tmpfile(\"/mnt/f/data/fasttext.model\")\n",
    "    ft.save(fname)"
   ]
  },
  {
   "cell_type": "code",
   "execution_count": null,
   "metadata": {},
   "outputs": [],
   "source": []
  }
 ],
 "metadata": {
  "kernelspec": {
   "display_name": "Python 3",
   "language": "python",
   "name": "python3"
  },
  "language_info": {
   "codemirror_mode": {
    "name": "ipython",
    "version": 3
   },
   "file_extension": ".py",
   "mimetype": "text/x-python",
   "name": "python",
   "nbconvert_exporter": "python",
   "pygments_lexer": "ipython3",
   "version": "3.7.6"
  }
 },
 "nbformat": 4,
 "nbformat_minor": 4
}
