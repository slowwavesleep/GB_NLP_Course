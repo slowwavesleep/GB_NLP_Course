{
 "cells": [
  {
   "cell_type": "code",
   "execution_count": 17,
   "metadata": {},
   "outputs": [],
   "source": [
    "import yaml\n",
    "import hnswlib\n",
    "import pickle\n",
    "import json\n",
    "from src.utils import clean, normalize, remove_stop_words\n",
    "from gensim.models import FastText\n",
    "import numpy as np"
   ]
  },
  {
   "cell_type": "code",
   "execution_count": 2,
   "metadata": {},
   "outputs": [],
   "source": [
    "NUM_ELEMENTS = 154536\n",
    "DIM = 100\n",
    "MAX_WORDS = 50"
   ]
  },
  {
   "cell_type": "code",
   "execution_count": 3,
   "metadata": {},
   "outputs": [],
   "source": [
    "ft = FastText.load('/mnt/f/data/bot/ft.model')"
   ]
  },
  {
   "cell_type": "code",
   "execution_count": 6,
   "metadata": {},
   "outputs": [],
   "source": [
    "p = hnswlib.Index(space ='cosine', dim=DIM)"
   ]
  },
  {
   "cell_type": "code",
   "execution_count": 7,
   "metadata": {},
   "outputs": [],
   "source": [
    "p.load_index('/mnt/f/data/bot/index.bin', max_elements=NUM_ELEMENTS)"
   ]
  },
  {
   "cell_type": "code",
   "execution_count": 15,
   "metadata": {},
   "outputs": [],
   "source": [
    "with open('/mnt/f/data/bot/tfidf.pkl', 'rb') as file:\n",
    "    tfidf = pickle.load(file)"
   ]
  },
  {
   "cell_type": "code",
   "execution_count": 9,
   "metadata": {},
   "outputs": [],
   "source": [
    "with open('/mnt/f/data/bot/answers.json', 'r') as file:\n",
    "    answers = json.load(file)"
   ]
  },
  {
   "cell_type": "code",
   "execution_count": 30,
   "metadata": {},
   "outputs": [],
   "source": [
    "def vectorize_sent(tokens, model, tfidf):\n",
    "    vector = np.zeros(model.vector_size)\n",
    "    n_tokens = len(tokens)\n",
    "    weight_sum = 0\n",
    "    tfidf_feat = tfidf.get_feature_names()\n",
    "    final_tf_idf = tfidf.transform([' '.join(tokens)])\n",
    "    \n",
    "    if not n_tokens:\n",
    "        return vector\n",
    "    \n",
    "    for token in tokens:\n",
    "        try:\n",
    "            weight = final_tf_idf[0, tfidf_feat.index(token)]\n",
    "        except:\n",
    "            weight = 0\n",
    "        vector += (model.wv.get_vector(token) * weight)\n",
    "        weight_sum += weight\n",
    "        \n",
    "    if not weight_sum:\n",
    "        return vector * 0\n",
    "        \n",
    "    vector /= weight_sum\n",
    "    \n",
    "    return vector"
   ]
  },
  {
   "cell_type": "code",
   "execution_count": 48,
   "metadata": {},
   "outputs": [],
   "source": [
    "def get_answer_candidate(question: str, model=ft, tfidf=tfidf):\n",
    "    tokens = normalize(clean(question))\n",
    "    tokens_vect = vectorize_sent(tokens, model, tfidf)\n",
    "    label, distance = p.knn_query(tokens_vect, k=1)\n",
    "    return label[0][0], distance[0][0]"
   ]
  },
  {
   "cell_type": "code",
   "execution_count": 64,
   "metadata": {},
   "outputs": [],
   "source": [
    "def get_answer(question: str, answers=answers):\n",
    "    label, distance = get_answer_candidate(question)\n",
    "    if distance > 0.3:\n",
    "        return 'Ответ не найден!'\n",
    "    else:\n",
    "        answer_candidates = answers[str(label)]\n",
    "        if len(answer_candidates) > 1:\n",
    "            return answer_candidates[np.random.choice(len(answer_candidates))]\n",
    "        else:\n",
    "            return answer_candidates[0]"
   ]
  },
  {
   "cell_type": "code",
   "execution_count": 75,
   "metadata": {},
   "outputs": [
    {
     "data": {
      "text/plain": [
       "'Токие живые трупы, пьющие кровь - вампиры или упыри. \\n'"
      ]
     },
     "execution_count": 75,
     "metadata": {},
     "output_type": "execute_result"
    }
   ],
   "source": [
    "get_answer('Кто такие вампиры?')"
   ]
  },
  {
   "cell_type": "code",
   "execution_count": 76,
   "metadata": {
    "scrolled": true
   },
   "outputs": [
    {
     "data": {
      "text/plain": [
       "'вампиры очень бледные кровососущие твари!!! =))))). \\n'"
      ]
     },
     "execution_count": 76,
     "metadata": {},
     "output_type": "execute_result"
    }
   ],
   "source": [
    "get_answer('Кто такие вампиры?')"
   ]
  },
  {
   "cell_type": "code",
   "execution_count": 83,
   "metadata": {},
   "outputs": [
    {
     "data": {
      "text/plain": [
       "'тоже Леонардо? ну удачи))). \\n'"
      ]
     },
     "execution_count": 83,
     "metadata": {},
     "output_type": "execute_result"
    }
   ],
   "source": [
    "get_answer('Почему заходит солнце?')"
   ]
  }
 ],
 "metadata": {
  "kernelspec": {
   "display_name": "Python 3",
   "language": "python",
   "name": "python3"
  },
  "language_info": {
   "codemirror_mode": {
    "name": "ipython",
    "version": 3
   },
   "file_extension": ".py",
   "mimetype": "text/x-python",
   "name": "python",
   "nbconvert_exporter": "python",
   "pygments_lexer": "ipython3",
   "version": "3.7.6"
  }
 },
 "nbformat": 4,
 "nbformat_minor": 4
}
