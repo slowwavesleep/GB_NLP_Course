{
 "cells": [
  {
   "cell_type": "code",
   "execution_count": 42,
   "metadata": {},
   "outputs": [],
   "source": [
    "import yaml\n",
    "import hnswlib\n",
    "import pickle\n",
    "import json\n",
    "from src.utils import clean, normalize, remove_stop_words\n",
    "from src.config import token # токен в локальном файле в целях безопасности\n",
    "from gensim.models import FastText\n",
    "import numpy as np\n",
    "from telegram.ext  import Updater, CommandHandler, MessageHandler, Filters"
   ]
  },
  {
   "cell_type": "code",
   "execution_count": 3,
   "metadata": {},
   "outputs": [],
   "source": [
    "NUM_ELEMENTS = 154536\n",
    "DIM = 100\n",
    "MAX_WORDS = 50"
   ]
  },
  {
   "cell_type": "code",
   "execution_count": 4,
   "metadata": {},
   "outputs": [],
   "source": [
    "ft = FastText.load('/mnt/f/data/bot/ft.model')"
   ]
  },
  {
   "cell_type": "code",
   "execution_count": 5,
   "metadata": {},
   "outputs": [],
   "source": [
    "p = hnswlib.Index(space ='cosine', dim=DIM)"
   ]
  },
  {
   "cell_type": "code",
   "execution_count": 6,
   "metadata": {},
   "outputs": [],
   "source": [
    "p.load_index('/mnt/f/data/bot/index.bin', max_elements=NUM_ELEMENTS)"
   ]
  },
  {
   "cell_type": "code",
   "execution_count": 7,
   "metadata": {},
   "outputs": [],
   "source": [
    "with open('/mnt/f/data/bot/tfidf.pkl', 'rb') as file:\n",
    "    tfidf = pickle.load(file)"
   ]
  },
  {
   "cell_type": "code",
   "execution_count": 8,
   "metadata": {},
   "outputs": [],
   "source": [
    "with open('/mnt/f/data/bot/answers.json', 'r') as file:\n",
    "    answers = json.load(file)"
   ]
  },
  {
   "cell_type": "code",
   "execution_count": 9,
   "metadata": {},
   "outputs": [],
   "source": [
    "def vectorize_sent(tokens, model, tfidf):\n",
    "    vector = np.zeros(model.vector_size)\n",
    "    n_tokens = len(tokens)\n",
    "    weight_sum = 0\n",
    "    tfidf_feat = tfidf.get_feature_names()\n",
    "    final_tf_idf = tfidf.transform([' '.join(tokens)])\n",
    "    \n",
    "    if not n_tokens:\n",
    "        return vector\n",
    "    \n",
    "    for token in tokens:\n",
    "        try:\n",
    "            weight = final_tf_idf[0, tfidf_feat.index(token)]\n",
    "        except:\n",
    "            weight = 0\n",
    "        vector += (model.wv.get_vector(token) * weight)\n",
    "        weight_sum += weight\n",
    "        \n",
    "    if not weight_sum:\n",
    "        return vector * 0\n",
    "        \n",
    "    vector /= weight_sum\n",
    "    \n",
    "    return vector"
   ]
  },
  {
   "cell_type": "code",
   "execution_count": 10,
   "metadata": {},
   "outputs": [],
   "source": [
    "def get_answer_candidate(question: str, model=ft, tfidf=tfidf):\n",
    "    tokens = normalize(clean(question))\n",
    "    tokens_vect = vectorize_sent(tokens, model, tfidf)\n",
    "    label, distance = p.knn_query(tokens_vect, k=1)\n",
    "    return label[0][0], distance[0][0]"
   ]
  },
  {
   "cell_type": "code",
   "execution_count": 63,
   "metadata": {},
   "outputs": [],
   "source": [
    "def get_answer(question: str, answers=answers):\n",
    "    label, distance = get_answer_candidate(question)\n",
    "    if distance > 0.3:\n",
    "        return 'Ответ не найден!'\n",
    "    else:\n",
    "        answer_candidates = answers[str(label)]\n",
    "        # если ответов несколько, то выбираем случайный\n",
    "        if len(answer_candidates) > 1:\n",
    "            return answer_candidates[np.random.choice(len(answer_candidates))]\n",
    "        else:\n",
    "            return answer_candidates[0]"
   ]
  },
  {
   "cell_type": "code",
   "execution_count": 12,
   "metadata": {},
   "outputs": [
    {
     "data": {
      "text/plain": [
       "'В природе - вид кровососущих летучих мышей, живущих в Южной Америке. В литературе - все зависит от фантазии автора - у Анны Райс они одни, у Сергея Лукьяненко - другие. , у Уильяма Тенна - третьи, у Роберта Блоха - четвертые, у Брема Стокера - пятые. Единственное общее то что они потребляют человеческую кровь.. \\n'"
      ]
     },
     "execution_count": 12,
     "metadata": {},
     "output_type": "execute_result"
    }
   ],
   "source": [
    "get_answer('Кто такие вампиры?')"
   ]
  },
  {
   "cell_type": "code",
   "execution_count": 72,
   "metadata": {
    "scrolled": true
   },
   "outputs": [
    {
     "data": {
      "text/plain": [
       "'вампиры очень бледные кровососущие твари!!! =))))). \\n'"
      ]
     },
     "execution_count": 72,
     "metadata": {},
     "output_type": "execute_result"
    }
   ],
   "source": [
    "get_answer('Кто такие вампиры?')"
   ]
  },
  {
   "cell_type": "code",
   "execution_count": 67,
   "metadata": {},
   "outputs": [
    {
     "data": {
      "text/plain": [
       "'У меня бензин... Приезжай, заправлю.... \\n'"
      ]
     },
     "execution_count": 67,
     "metadata": {},
     "output_type": "execute_result"
    }
   ],
   "source": [
    "get_answer('Как починить кран?')"
   ]
  },
  {
   "cell_type": "code",
   "execution_count": 62,
   "metadata": {},
   "outputs": [
    {
     "data": {
      "text/plain": [
       "'Ну это как Вы на это смотрите, если для Вас жизнь на Земле - это единственная жизнь , то для Вас этот вопрос актуален. Для меня жизнь на Земле - это временный период набираться знаний , мудрости , и к старости я отношусь спокойно , мозгами я молодая. Тело стареет , так это всего лишь одежка данная мне Природой на определенный срок . Я считаю , что человек платит старостью , ведь взамен он получает больше - радость пребывание на Земле , знания , мудрость - а за все мы должны чем то заплатить . Вот старость - это и есть плата . Это мое видение , понимание .. \\n'"
      ]
     },
     "execution_count": 62,
     "metadata": {},
     "output_type": "execute_result"
    }
   ],
   "source": [
    "get_answer('Почему мало платят?')"
   ]
  },
  {
   "cell_type": "markdown",
   "metadata": {},
   "source": [
    "Здесь адекватные ответы, конечно, сложно получить. Я пробовал по разному предобрабатывать текст и получается примерно одно и то же. Думаю, что дело в самом датасете. Какого-то эффекта от взвешивания tf-idf не обнаружил."
   ]
  },
  {
   "cell_type": "code",
   "execution_count": 38,
   "metadata": {},
   "outputs": [],
   "source": [
    "import warnings\n",
    "warnings.filterwarnings(\"ignore\")\n",
    "\n",
    "updater = Updater(token=token)\n",
    "dispatcher = updater.dispatcher"
   ]
  },
  {
   "cell_type": "code",
   "execution_count": 39,
   "metadata": {},
   "outputs": [],
   "source": [
    "def startCommand(bot, update):\n",
    "    bot.send_message(chat_id=update.message.chat_id, text='Бот готов ответить на ваши вопросы!')"
   ]
  },
  {
   "cell_type": "code",
   "execution_count": 40,
   "metadata": {},
   "outputs": [],
   "source": [
    "def textMessage(bot, update):\n",
    "    answer = get_answer(update.message.text)\n",
    "    bot.send_message(chat_id=update.message.chat_id, text=answer)"
   ]
  },
  {
   "cell_type": "code",
   "execution_count": 41,
   "metadata": {},
   "outputs": [],
   "source": [
    "start_command_handler = CommandHandler('start', startCommand)\n",
    "text_message_handler = MessageHandler(Filters.text, textMessage)\n",
    "dispatcher.add_handler(start_command_handler)\n",
    "dispatcher.add_handler(text_message_handler)\n",
    "updater.start_polling(clean=True)\n",
    "updater.idle()"
   ]
  },
  {
   "cell_type": "markdown",
   "metadata": {},
   "source": [
    "Разворачивать на хостинге не стал пока. Протестировал бота, запустив ячейку. В принципе все работает."
   ]
  },
  {
   "cell_type": "code",
   "execution_count": null,
   "metadata": {},
   "outputs": [],
   "source": []
  }
 ],
 "metadata": {
  "kernelspec": {
   "display_name": "Python 3",
   "language": "python",
   "name": "python3"
  },
  "language_info": {
   "codemirror_mode": {
    "name": "ipython",
    "version": 3
   },
   "file_extension": ".py",
   "mimetype": "text/x-python",
   "name": "python",
   "nbconvert_exporter": "python",
   "pygments_lexer": "ipython3",
   "version": "3.7.6"
  }
 },
 "nbformat": 4,
 "nbformat_minor": 4
}
